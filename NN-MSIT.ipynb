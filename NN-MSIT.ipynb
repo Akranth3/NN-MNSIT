{
 "cells": [
  {
   "cell_type": "code",
   "execution_count": 1,
   "metadata": {},
   "outputs": [],
   "source": [
    "import numpy as np\n",
    "import matplotlib.pyplot as plt\n",
    "import pandas as pd\n",
    "from scipy import optimize"
   ]
  },
  {
   "cell_type": "code",
   "execution_count": 2,
   "metadata": {},
   "outputs": [],
   "source": [
    "data=pd.read_csv('train.csv')\n",
    "test_data=pd.read_csv('test.csv')\n",
    "data=data.to_numpy()\n",
    "test_data=test_data.to_numpy()"
   ]
  },
  {
   "cell_type": "code",
   "execution_count": 3,
   "metadata": {},
   "outputs": [
    {
     "name": "stdout",
     "output_type": "stream",
     "text": [
      "(42000, 784)\n",
      "(42000,)\n"
     ]
    }
   ],
   "source": [
    "X , Y = data[:,1:] ,data[:,0]\n",
    "print(X.shape)\n",
    "print(Y.shape)\n"
   ]
  },
  {
   "cell_type": "code",
   "execution_count": 4,
   "metadata": {},
   "outputs": [
    {
     "data": {
      "text/plain": [
       "15"
      ]
     },
     "execution_count": 4,
     "metadata": {},
     "output_type": "execute_result"
    }
   ],
   "source": [
    "np.dot( np.array([1,2,3,4,5]),np.transpose(np.array([1,1,1,1,1])) )"
   ]
  },
  {
   "cell_type": "code",
   "execution_count": 5,
   "metadata": {},
   "outputs": [],
   "source": [
    "def sigmoid(z):\n",
    "    return 1/(1+np.exp(-z))\n",
    "def sigmoid_gradient(z):\n",
    "    return np.multiply(sigmoid(z),1-sigmoid(z))"
   ]
  },
  {
   "cell_type": "code",
   "execution_count": 6,
   "metadata": {},
   "outputs": [],
   "source": [
    "#NN consist of 3 layers input, hidden, output.\n",
    "#lamda is regularization parameter.\n",
    "def nnCostFunction(theta1,theta2,num_lable,X,Y,lamda):\n",
    "    X_train=np.hstack((np.ones((X.shape[0],1)),X))\n",
    "    A2=sigmoid(np.dot(X_train,np.transpose(Theta1)))\n",
    "    A2=np.hstack((np.ones((A2.shape[0],1)),A2))\n",
    "    A3=sigmoid(np.dot(A2,np.transpose(Theta2)))\n",
    "    y_train=np.zeros((X.shape[0],num_lable))\n",
    "    y_train[np.arange(X.shape[0]),Y-1]=1\n",
    "    J=-np.multiply(y_train,np.log(A3))-np.multiply(1-y_train,np.log(1-A3))\n",
    "    J=np.sum(J)/X.shape[0]\n",
    "    regularization_term=( (np.sum(np.power(theta1[:,1:],2))+np.sum(np.power(theta2[:,1:],2))) * lam ) / (2*X.shape[0])\n",
    "    J=J+regularization_term\n",
    "    \n",
    "    delta3=A3-y_train\n",
    "    delta2=np.multiply(np.dot(delta3,theta2),np.multiply(A2,1-A2))\n",
    "    theta1_grad=np.zeros(theta1.shape)\n",
    "    theta2_grad=np.zeros(theta2.shape)\n",
    "    for i in range(X.shape[0]):\n",
    "        theta1_grad+=np.dot(delta2[i,1:][:,None],np.atleast_2d(X_train[i,:]))\n",
    "        theta2_grad+=np.dot(delta3[i][:,None],np.atleast_2d(A2[i,:]))\n",
    "    theta1_grad/=X.shape[0]\n",
    "    theta2_grad/=X.shape[0]\n",
    "    \n",
    "    theta1_grad[:,1:]+=lamda*theta1[:,1:]/X.shape[0]\n",
    "    theta2_grad[:,1:]+=lamda*theta2[:,1:]/X.shape[0]\n",
    "    grad=np.hstack((theta1_grad.ravel(),theta2_grad.ravel()))\n",
    "    return J, grad\n",
    "    \n",
    "    "
   ]
  },
  {
   "cell_type": "code",
   "execution_count": 19,
   "metadata": {},
   "outputs": [],
   "source": [
    "def cost(theta1,theta2,num_lable,X,Y,lamda):\n",
    "    X_train=np.hstack((np.ones((X.shape[0],1)),X))\n",
    "    A2=sigmoid(np.dot(X_train,np.transpose(Theta1)))\n",
    "    A2=np.hstack((np.ones((A2.shape[0],1)),A2))\n",
    "    A3=sigmoid(np.dot(A2,np.transpose(Theta2)))\n",
    "    y_train=np.zeros((X.shape[0],num_lable))\n",
    "    y_train[np.arange(X.shape[0]),Y-1]=1\n",
    "    J=-np.multiply(y_train,np.log(A3))-np.multiply(1-y_train,np.log(1-A3))\n",
    "    J=np.sum(J)/X.shape[0]\n",
    "    regularization_term=( (np.sum(np.power(theta1[:,1:],2))+np.sum(np.power(theta2[:,1:],2))) * lam ) / (2*X.shape[0])\n",
    "    J=J+regularization_term\n",
    "    return J\n",
    "\n",
    "def gradient(theta1,theta2,num_lable,X,Y,lamda):\n",
    "    X_train=np.hstack((np.ones((X.shape[0],1)),X))\n",
    "    A2=sigmoid(np.dot(X_train,np.transpose(Theta1)))\n",
    "    A2=np.hstack((np.ones((A2.shape[0],1)),A2))\n",
    "    A3=sigmoid(np.dot(A2,np.transpose(Theta2)))\n",
    "    y_train=np.zeros((X.shape[0],num_lable))\n",
    "    y_train[np.arange(X.shape[0]),Y-1]=1\n",
    "    \n",
    "    delta3=A3-y_train\n",
    "    delta2=np.multiply(np.dot(delta3,theta2),np.multiply(A2,1-A2))\n",
    "    theta1_grad=np.zeros(theta1.shape)\n",
    "    theta2_grad=np.zeros(theta2.shape)\n",
    "    for i in range(X.shape[0]):\n",
    "        theta1_grad+=np.dot(delta2[i,1:][:,None],np.atleast_2d(X_train[i,:]))\n",
    "        theta2_grad+=np.dot(delta3[i][:,None],np.atleast_2d(A2[i,:]))\n",
    "    theta1_grad/=X.shape[0]\n",
    "    theta2_grad/=X.shape[0]\n",
    "    \n",
    "    theta1_grad[:,1:]+=lamda*theta1[:,1:]/X.shape[0]\n",
    "    theta2_grad[:,1:]+=lamda*theta2[:,1:]/X.shape[0]\n",
    "    grad=np.hstack((theta1_grad.ravel(),theta2_grad.ravel()))\n",
    "    return grad\n",
    "    "
   ]
  },
  {
   "cell_type": "code",
   "execution_count": 7,
   "metadata": {
    "scrolled": true
   },
   "outputs": [
    {
     "data": {
      "text/plain": [
       "array([[1, 2],\n",
       "       [1, 2],\n",
       "       [1, 2],\n",
       "       [1, 2],\n",
       "       [1, 2]])"
      ]
     },
     "execution_count": 7,
     "metadata": {},
     "output_type": "execute_result"
    }
   ],
   "source": [
    "np.transpose(np.array([[1,1,1,1,1],[2,2,2,2,2]]))\n"
   ]
  },
  {
   "cell_type": "code",
   "execution_count": 8,
   "metadata": {},
   "outputs": [
    {
     "data": {
      "text/plain": [
       "(5, 1)"
      ]
     },
     "execution_count": 8,
     "metadata": {},
     "output_type": "execute_result"
    }
   ],
   "source": [
    "qq=np.array([[1],[2],[3],[4],[5]])\n",
    "#np.transpose(qq)[0,1:][:,None]\n",
    "ww=np.array([1,2,3,4,5])\n",
    "ee=ww[:][:,None]\n",
    "#print(ww[0,1:][:,None])\n",
    "#print(ww)\n",
    "#np.atleast_2d(ww)\n",
    "#np.dot(np.atleast_2d(ww),qq)\n",
    "ee.shape"
   ]
  },
  {
   "cell_type": "code",
   "execution_count": 9,
   "metadata": {},
   "outputs": [
    {
     "name": "stdout",
     "output_type": "stream",
     "text": [
      "[[1. 0. 0. ... 0. 0. 0.]\n",
      " [0. 0. 0. ... 0. 0. 1.]\n",
      " [1. 0. 0. ... 0. 0. 0.]\n",
      " ...\n",
      " [0. 0. 0. ... 0. 0. 0.]\n",
      " [0. 0. 0. ... 0. 0. 0.]\n",
      " [0. 0. 0. ... 0. 1. 0.]]\n",
      "[1 0 1 ... 7 6 9]\n"
     ]
    }
   ],
   "source": [
    "yy_train = np.zeros((X.shape[0], 10))\n",
    "yy_train[np.arange(X.shape[0]), Y - 1] = 1\n",
    "print(yy_train)\n",
    "print(Y)"
   ]
  },
  {
   "cell_type": "code",
   "execution_count": 10,
   "metadata": {},
   "outputs": [
    {
     "data": {
      "text/plain": [
       "NoneType"
      ]
     },
     "execution_count": 10,
     "metadata": {},
     "output_type": "execute_result"
    }
   ],
   "source": [
    "type(np.newaxis)"
   ]
  },
  {
   "cell_type": "code",
   "execution_count": 20,
   "metadata": {},
   "outputs": [
    {
     "name": "stdout",
     "output_type": "stream",
     "text": [
      "(5000, 400)\n",
      "(5000,)\n",
      "(25, 401)\n",
      "(10, 26)\n",
      "0.2876291651613189\n"
     ]
    }
   ],
   "source": [
    "'''\n",
    "from scipy.io import loadmat\n",
    "data = loadmat(\"ex4data1.mat\")\n",
    "X, y = data[\"X\"], data[\"y\"].ravel()\n",
    "print(X.shape)\n",
    "print(y.shape)\n",
    "weight = loadmat(\"ex4weights.mat\")\n",
    "Theta1, Theta2 = weight[\"Theta1\"], weight[\"Theta2\"]\n",
    "print(Theta1.shape)\n",
    "print(Theta2.shape)\n",
    "input_layer_size = 400\n",
    "hidden_layer_size = 25\n",
    "num_labels = 10\n",
    "nn_params = np.hstack((Theta1.ravel(), Theta2.ravel()))\n",
    "lam = 0\n",
    "J= cost(Theta1, Theta2, num_labels, X, y, lam)\n",
    "print(J)\n",
    "'''"
   ]
  },
  {
   "cell_type": "code",
   "execution_count": 12,
   "metadata": {},
   "outputs": [
    {
     "data": {
      "text/plain": [
       "(42000, 784)"
      ]
     },
     "execution_count": 12,
     "metadata": {},
     "output_type": "execute_result"
    }
   ],
   "source": [
    "X.shape"
   ]
  },
  {
   "cell_type": "code",
   "execution_count": 16,
   "metadata": {},
   "outputs": [],
   "source": [
    "def random_weights(Lin,Lout):\n",
    "    epsilon=0.12\n",
    "    return np.random.RandomState(0).rand(Lout,Lin+1)*epsilon*2-epsilon"
   ]
  },
  {
   "cell_type": "code",
   "execution_count": null,
   "metadata": {},
   "outputs": [],
   "source": [
    "input_layer = 784\n",
    "hidden_layer = 30\n",
    "output_layer = 10\n",
    "initial_theta1=random_weights(input_layer,hidden_layer)\n",
    "initial_theta2=random_weights(hidden_layer,output_layer)\n",
    "lam=1\n",
    "res=optimize.minimize(fun=cost, x0=nn_params,\n",
    "                        args=(initial_theta1, initial_theta2, output_layer, X, Y, lam),\n",
    "                        method='CG', jac=gradient, options={\"maxiter\": 50})"
   ]
  },
  {
   "cell_type": "code",
   "execution_count": null,
   "metadata": {},
   "outputs": [],
   "source": []
  }
 ],
 "metadata": {
  "kernelspec": {
   "display_name": "Python 3",
   "language": "python",
   "name": "python3"
  },
  "language_info": {
   "codemirror_mode": {
    "name": "ipython",
    "version": 3
   },
   "file_extension": ".py",
   "mimetype": "text/x-python",
   "name": "python",
   "nbconvert_exporter": "python",
   "pygments_lexer": "ipython3",
   "version": "3.8.5"
  }
 },
 "nbformat": 4,
 "nbformat_minor": 4
}
